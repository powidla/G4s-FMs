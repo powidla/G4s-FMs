{
  "cells": [
    {
      "cell_type": "code",
      "execution_count": null,
      "metadata": {
        "scrolled": true,
        "id": "Kjx-CDSdpy4R"
      },
      "outputs": [],
      "source": [
        "!mkdir sparse_vector"
      ]
    },
    {
      "cell_type": "code",
      "source": [
        "from google.colab import drive\n",
        "drive.mount('/content/drive')"
      ],
      "metadata": {
        "colab": {
          "base_uri": "https://localhost:8080/"
        },
        "id": "_EDbvHY_p_Ux",
        "outputId": "a56929ae-3788-4891-fea2-af91a56ea3ea"
      },
      "execution_count": null,
      "outputs": [
        {
          "output_type": "stream",
          "name": "stdout",
          "text": [
            "Mounted at /content/drive\n",
            "Mounted at /content/drive\n"
          ]
        }
      ]
    },
    {
      "cell_type": "code",
      "execution_count": null,
      "metadata": {
        "scrolled": true,
        "id": "BeEzKWeCpy4V"
      },
      "outputs": [],
      "source": [
        "import torch\n",
        "from torch.utils import data\n",
        "import random\n",
        "from sklearn.preprocessing import LabelBinarizer\n",
        "from sklearn.model_selection import train_test_split, StratifiedKFold\n",
        "from collections import Counter\n",
        "import pandas as pd\n",
        "import numpy as np\n",
        "import scipy\n",
        "from tqdm import trange\n",
        "from tqdm import tqdm\n",
        "from datetime import datetime\n",
        "import sys\n",
        "import os\n",
        "import seaborn as sns\n",
        "from matplotlib import pyplot as plt\n",
        "from joblib import Parallel, delayed, dump, load\n",
        "from matplotlib import pyplot as plt\n",
        "from sparse_vector.sparse_vector import SparseVector\n",
        "from scipy.signal import convolve2d, convolve\n",
        "import time\n",
        "from torch import nn\n",
        "import torch.nn.functional as F\n",
        "from sklearn.metrics import roc_auc_score, f1_score\n",
        "from IPython.display import clear_output\n",
        "\n",
        "import torch\n",
        "from transformers import BertModel, BertConfig, PreTrainedTokenizer, AutoTokenizer, BertForTokenClassification, AutoModelForSequenceClassification\n",
        "import collections\n",
        "\n",
        "from transformers import utils\n",
        "\n",
        "from torch.utils.data import DataLoader\n",
        "import sklearn\n",
        "from sklearn.metrics import accuracy_score\n",
        "from torch.nn import CrossEntropyLoss\n",
        "\n",
        "import gc\n",
        "\n",
        "\n",
        "import warnings\n",
        "warnings.filterwarnings(\"ignore\")"
      ]
    },
    {
      "cell_type": "code",
      "execution_count": null,
      "metadata": {
        "id": "yjvbFnl0py4V"
      },
      "outputs": [],
      "source": [
        "def seq2kmer(seq, k):\n",
        "    \"\"\"\n",
        "    Convert original sequence to kmers\n",
        "\n",
        "    Arguments:\n",
        "    seq -- str, original sequence.\n",
        "    k -- int, kmer of length k specified.\n",
        "\n",
        "    Returns:\n",
        "    kmers -- str, kmers separated by space\n",
        "    \"\"\"\n",
        "    kmer = [seq[x:x+k] for x in range(len(seq)+1-k)]\n",
        "    kmers = \" \".join(kmer)\n",
        "    return kmers"
      ]
    },
    {
      "cell_type": "code",
      "execution_count": null,
      "metadata": {
        "scrolled": true,
        "id": "RSMPrUnspy4V"
      },
      "outputs": [],
      "source": [
        "class PredDataset(data.Dataset):\n",
        "    def __init__(self, chroms, dna_source, intervals, tokenizer):\n",
        "\n",
        "        self.chroms = chroms\n",
        "        self.intervals = intervals\n",
        "        self.tokenizer = tokenizer\n",
        "        self.dna_source = dna_source\n",
        "\n",
        "\n",
        "    def __len__(self):\n",
        "        return len(self.intervals)\n",
        "\n",
        "    def __getitem__(self, index):\n",
        "        interval = self.intervals[index]\n",
        "        chrom = interval[0]\n",
        "        begin = interval[1]\n",
        "        end = interval[2]\n",
        "\n",
        "        k_mers = seq2kmer(self.dna_source[chrom][begin:end+5].upper(),6)\n",
        "        encoded_k_mers = self.tokenizer.encode_plus(k_mers, add_special_tokens=False, max_length=512)[\"input_ids\"]\n",
        "\n",
        "        return torch.LongTensor(encoded_k_mers), (chrom, begin, end)"
      ]
    },
    {
      "cell_type": "code",
      "source": [
        "ASSEMBLY = \"G4_cut_small\"\n",
        "chroms = [f'chr{i}' for i in list(range(1, 23)) + ['X']]\n",
        "G4DNA = load(f'{ASSEMBLY}.pkl')"
      ],
      "metadata": {
        "id": "eGzgt7FuqtsI"
      },
      "execution_count": null,
      "outputs": []
    },
    {
      "cell_type": "code",
      "source": [
        "def chrom_reader(chrom):\n",
        "    files = sorted([i for i in os.listdir(f'/content/drive/My Drive/DeepZ_data_creation/data/hg19_dna/') if f\"{chrom}_\" in i])\n",
        "    return ''.join([load(f\"/content/drive/My Drive/DeepZ_data_creation/data/hg19_dna/{file}\") for file in files])\n",
        "\n",
        "\n",
        "DNA = {chrom:chrom_reader(chrom) for chrom in tqdm(chroms)}"
      ],
      "metadata": {
        "colab": {
          "base_uri": "https://localhost:8080/"
        },
        "id": "HewwofsvqqeA",
        "outputId": "bec02e33-4b57-416f-c1ce-a215bf99c759"
      },
      "execution_count": null,
      "outputs": [
        {
          "output_type": "stream",
          "name": "stderr",
          "text": [
            "100%|██████████| 23/23 [00:07<00:00,  3.24it/s]\n"
          ]
        }
      ]
    },
    {
      "cell_type": "code",
      "source": [
        "%%capture\n",
        "!pip install einops transformers==4.27 peft omegaconf torch evaluate accelerate numpy scikit-learn Pillow textaugment scipy\n",
        "!pip uninstall triton"
      ],
      "metadata": {
        "id": "V5XfHu40nEZh"
      },
      "execution_count": null,
      "outputs": []
    },
    {
      "cell_type": "code",
      "source": [
        "from transformers import AutoTokenizer, AutoModel, BertForSequenceClassification, AutoModelForMaskedLM, AutoModelForSequenceClassification, BertForTokenClassification\n",
        "import importlib"
      ],
      "metadata": {
        "id": "0mxgLXnfqltn"
      },
      "execution_count": null,
      "outputs": []
    },
    {
      "cell_type": "code",
      "source": [
        "tokenizer = AutoTokenizer.from_pretrained('zhihan1996/DNABERT-2-117M')\n",
        "model = AutoModel.from_pretrained('zhihan1996/DNABERT-2-117M', trust_remote_code=True)\n",
        "gena_module_name = model.__class__.__module__\n",
        "cls = getattr(importlib.import_module(gena_module_name), 'BertForSequenceClassification')\n",
        "model = cls.from_pretrained('zhihan1996/DNABERT-2-117M', num_labels=2, output_attentions=True)"
      ],
      "metadata": {
        "colab": {
          "base_uri": "https://localhost:8080/"
        },
        "id": "gwvfzAd2IyiO",
        "outputId": "add70900-c4bf-4d18-b541-cbd2f8973e54"
      },
      "execution_count": null,
      "outputs": [
        {
          "output_type": "stream",
          "name": "stderr",
          "text": [
            "Explicitly passing a `revision` is encouraged when loading a configuration with custom code to ensure no malicious code has been contributed in a newer revision.\n",
            "Explicitly passing a `revision` is encouraged when loading a model with custom code to ensure no malicious code has been contributed in a newer revision.\n",
            "Some weights of the model checkpoint at zhihan1996/DNABERT-2-117M were not used when initializing BertModel: ['cls.predictions.transform.LayerNorm.bias', 'cls.predictions.transform.LayerNorm.weight', 'cls.predictions.decoder.weight', 'cls.predictions.decoder.bias', 'cls.predictions.transform.dense.weight', 'cls.predictions.transform.dense.bias']\n",
            "- This IS expected if you are initializing BertModel from the checkpoint of a model trained on another task or with another architecture (e.g. initializing a BertForSequenceClassification model from a BertForPreTraining model).\n",
            "- This IS NOT expected if you are initializing BertModel from the checkpoint of a model that you expect to be exactly identical (initializing a BertForSequenceClassification model from a BertForSequenceClassification model).\n",
            "Some weights of BertModel were not initialized from the model checkpoint at zhihan1996/DNABERT-2-117M and are newly initialized: ['bert.pooler.dense.weight', 'bert.pooler.dense.bias']\n",
            "You should probably TRAIN this model on a down-stream task to be able to use it for predictions and inference.\n",
            "Some weights of the model checkpoint at zhihan1996/DNABERT-2-117M were not used when initializing BertForSequenceClassification: ['cls.predictions.transform.LayerNorm.bias', 'cls.predictions.transform.LayerNorm.weight', 'cls.predictions.decoder.weight', 'cls.predictions.decoder.bias', 'cls.predictions.transform.dense.weight', 'cls.predictions.transform.dense.bias']\n",
            "- This IS expected if you are initializing BertForSequenceClassification from the checkpoint of a model trained on another task or with another architecture (e.g. initializing a BertForSequenceClassification model from a BertForPreTraining model).\n",
            "- This IS NOT expected if you are initializing BertForSequenceClassification from the checkpoint of a model that you expect to be exactly identical (initializing a BertForSequenceClassification model from a BertForSequenceClassification model).\n",
            "Some weights of BertForSequenceClassification were not initialized from the model checkpoint at zhihan1996/DNABERT-2-117M and are newly initialized: ['bert.pooler.dense.weight', 'bert.pooler.dense.bias', 'classifier.bias', 'classifier.weight']\n",
            "You should probably TRAIN this model on a down-stream task to be able to use it for predictions and inference.\n"
          ]
        }
      ]
    },
    {
      "cell_type": "code",
      "source": [
        "G4_kouzine = {}\n",
        "for chrom in DNA:\n",
        "    G4_kouzine[chrom] = np.zeros(len(DNA[chrom]), dtype = bool)\n",
        "\n",
        "\n",
        "with open(\"/content/EndoQuad_hg19.bed\")as f:\n",
        "    for idx, line in enumerate(f):\n",
        "        if idx>0:\n",
        "            chrom, start, end, _ , _ , _ = line.strip().split()\n",
        "            if chrom in G4_kouzine:\n",
        "                G4_kouzine[chrom][int(start):int(end)] = 1\n",
        "\n",
        "dump(G4_kouzine, 'endo.pkl')"
      ],
      "metadata": {
        "colab": {
          "base_uri": "https://localhost:8080/"
        },
        "id": "p5Mxgr6e7kF0",
        "outputId": "f3630674-13a2-41ad-b60f-515b7b2dca77"
      },
      "execution_count": null,
      "outputs": [
        {
          "output_type": "execute_result",
          "data": {
            "text/plain": [
              "['endo.pkl']"
            ]
          },
          "metadata": {},
          "execution_count": 31
        }
      ]
    },
    {
      "cell_type": "code",
      "source": [
        "G4 = load('endo.pkl')"
      ],
      "metadata": {
        "id": "E6a78GtV8QKX"
      },
      "execution_count": null,
      "outputs": []
    },
    {
      "cell_type": "code",
      "source": [
        "width = 512\n",
        "\n",
        "np.random.seed(42)\n",
        "\n",
        "ints_in = []\n",
        "ints_out = []\n",
        "\n",
        "\n",
        "for chrm in chroms:\n",
        "    for st in trange(0, G4[chrm].shape[0] - width, width):\n",
        "        interval = [st, min(st + width, G4[chrm].shape[0])]\n",
        "        if G4[chrm][interval[0]: interval[1]].any():\n",
        "            ints_in.append([chrm, int(interval[0]), int(interval[1]), 1])\n",
        "        else:\n",
        "            ints_out.append([chrm, int(interval[0]), int(interval[1]), 0])\n",
        "\n",
        "print(len(ints_in))\n",
        "print(len(ints_out))\n",
        "\n",
        "ints_in_full = ints_in\n",
        "ints_out_full = ints_out"
      ],
      "metadata": {
        "colab": {
          "base_uri": "https://localhost:8080/"
        },
        "id": "_wEE0eLL8Tq_",
        "outputId": "4b8e1cdf-c3c3-44ab-b4a4-e480a7b18416"
      },
      "execution_count": null,
      "outputs": [
        {
          "output_type": "stream",
          "name": "stderr",
          "text": [
            "100%|██████████| 486817/486817 [00:01<00:00, 276975.29it/s]\n",
            "100%|██████████| 474998/474998 [00:02<00:00, 214787.85it/s]\n",
            "100%|██████████| 386762/386762 [00:01<00:00, 257370.65it/s]\n",
            "100%|██████████| 373348/373348 [00:01<00:00, 204120.06it/s]\n",
            "100%|██████████| 353350/353350 [00:01<00:00, 279614.31it/s]\n",
            "100%|██████████| 334209/334209 [00:01<00:00, 190704.34it/s]\n",
            "100%|██████████| 310817/310817 [00:01<00:00, 287314.54it/s]\n",
            "100%|██████████| 285867/285867 [00:00<00:00, 288950.08it/s]\n",
            "100%|██████████| 275807/275807 [00:00<00:00, 286630.30it/s]\n",
            "100%|██████████| 264716/264716 [00:00<00:00, 280676.67it/s]\n",
            "100%|██████████| 263684/263684 [00:01<00:00, 161043.16it/s]\n",
            "100%|██████████| 261429/261429 [00:00<00:00, 280302.68it/s]\n",
            "100%|██████████| 224941/224941 [00:00<00:00, 279753.67it/s]\n",
            "100%|██████████| 209667/209667 [00:00<00:00, 276833.80it/s]\n",
            "100%|██████████| 200256/200256 [00:00<00:00, 285379.27it/s]\n",
            "100%|██████████| 176474/176474 [00:00<00:00, 287586.97it/s]\n",
            "100%|██████████| 158584/158584 [00:00<00:00, 283643.55it/s]\n",
            "100%|██████████| 152494/152494 [00:01<00:00, 113425.36it/s]\n",
            "100%|██████████| 115486/115486 [00:00<00:00, 291022.68it/s]\n",
            "100%|██████████| 123096/123096 [00:00<00:00, 279249.13it/s]\n",
            "100%|██████████| 94003/94003 [00:00<00:00, 278589.32it/s]\n",
            "100%|██████████| 100204/100204 [00:00<00:00, 270367.35it/s]\n",
            "100%|██████████| 303262/303262 [00:01<00:00, 278963.90it/s]"
          ]
        },
        {
          "output_type": "stream",
          "name": "stdout",
          "text": [
            "184812\n",
            "5745459\n"
          ]
        },
        {
          "output_type": "stream",
          "name": "stderr",
          "text": [
            "\n"
          ]
        }
      ]
    },
    {
      "cell_type": "code",
      "source": [
        "ints_in = ints_in_full\n",
        "ints_out = [ints_out_full[i] for i in np.random.choice(range(len(ints_out_full)),\n",
        "                                                    size=len(ints_in) * 2, replace=False)]\n",
        "# ints_out = ints_out_full\n",
        "\n",
        "print(len(ints_in))\n",
        "print(len(ints_out))"
      ],
      "metadata": {
        "colab": {
          "base_uri": "https://localhost:8080/"
        },
        "id": "IG8uuZFB8Wb8",
        "outputId": "ccc22a3d-fb9d-4205-81f4-9b3fa751a665"
      },
      "execution_count": null,
      "outputs": [
        {
          "output_type": "stream",
          "name": "stdout",
          "text": [
            "184812\n",
            "369624\n"
          ]
        }
      ]
    },
    {
      "cell_type": "code",
      "source": [
        "equalized = ints_in + ints_out"
      ],
      "metadata": {
        "id": "T8DmsUv08dBX"
      },
      "execution_count": null,
      "outputs": []
    },
    {
      "cell_type": "code",
      "source": [
        "divisions = list(StratifiedKFold(5, shuffle=True,\n",
        "                                 random_state=42).split(equalized, [f\"{elem[3]}_{elem[0]}\"\n",
        "                                         for i, elem\n",
        "                                         in enumerate(equalized)]))"
      ],
      "metadata": {
        "id": "2ll3QZjI8eaX"
      },
      "execution_count": null,
      "outputs": []
    },
    {
      "cell_type": "code",
      "source": [
        "dump([equalized, divisions], 'hg_divisions_g4.pkl', 3)"
      ],
      "metadata": {
        "colab": {
          "base_uri": "https://localhost:8080/"
        },
        "id": "Xo5UbZVD8ioq",
        "outputId": "d91c1697-58ab-4c35-9808-2c40fbbedea7"
      },
      "execution_count": null,
      "outputs": [
        {
          "output_type": "execute_result",
          "data": {
            "text/plain": [
              "['hg_divisions_kouzine_g4.pkl']"
            ]
          },
          "metadata": {},
          "execution_count": 38
        }
      ]
    },
    {
      "cell_type": "code",
      "execution_count": null,
      "metadata": {
        "id": "V65pMINcpy4W"
      },
      "outputs": [],
      "source": [
        "width = 128\n",
        "pad = 192\n",
        "k_mer_pad = 5\n",
        "\n",
        "def final_prediction(chrom):\n",
        "\n",
        "    intervals = []\n",
        "    ends = []\n",
        "\n",
        "\n",
        "    prediction = np.zeros(len(DNA[chrom]), dtype=np.float32)\n",
        "\n",
        "\n",
        "    for st in range(0, len(DNA[chrom]) - 512, width):\n",
        "        interval = [st, min(st + 512, len(DNA[chrom]))]\n",
        "        intervals.append([chrom, interval[0], interval[1]])\n",
        "\n",
        "    pred_dataset = PredDataset(chroms, DNA, intervals,\n",
        "                               tokenizer)\n",
        "\n",
        "    params = {'batch_size':32, 'num_workers':5, 'shuffle':False}\n",
        "    load_predict = data.DataLoader(pred_dataset, **params)\n",
        "\n",
        "\n",
        "\n",
        "    model.to(device)\n",
        "    with torch.no_grad():\n",
        "        for input_ids, intervals in tqdm(load_predict):\n",
        "            input_ids = input_ids.to(device)\n",
        "            outputs = torch.softmax(model(input_ids = input_ids)['logits'],axis = -1).cpu().numpy()[:,:,1]\n",
        "            for ind, interval in enumerate(zip(intervals[0], intervals[1], intervals[2])):\n",
        "                if interval[1] == 0:\n",
        "                    prediction[interval[1]:interval[2]] = outputs[ind]\n",
        "                else:\n",
        "                    prediction[interval[1]+pad:interval[2]] = outputs[ind, pad:]\n",
        "\n",
        "    dump(prediction, f'pred_DNABERT2_{model}_{chrom}', 3)"
      ]
    },
    {
      "cell_type": "code",
      "source": [
        "device = \"cuda\"\n",
        "torch.cuda.empty_cache()\n",
        "model.to(device)\n",
        "model.eval()"
      ],
      "metadata": {
        "colab": {
          "base_uri": "https://localhost:8080/"
        },
        "id": "984Ur4o2CVlG",
        "outputId": "866b17a1-cfa3-4649-cf3a-48eb2adaf344"
      },
      "execution_count": null,
      "outputs": [
        {
          "output_type": "execute_result",
          "data": {
            "text/plain": [
              "BertForTokenClassification(\n",
              "  (bert): BertModel(\n",
              "    (embeddings): BertEmbeddings(\n",
              "      (word_embeddings): Embedding(4096, 768, padding_idx=0)\n",
              "      (position_embeddings): Embedding(512, 768)\n",
              "      (token_type_embeddings): Embedding(2, 768)\n",
              "      (LayerNorm): LayerNorm((768,), eps=1e-12, elementwise_affine=True)\n",
              "      (dropout): Dropout(p=0.1, inplace=False)\n",
              "    )\n",
              "    (encoder): BertEncoder(\n",
              "      (layer): ModuleList(\n",
              "        (0-11): 12 x BertLayer(\n",
              "          (attention): BertAttention(\n",
              "            (self): BertSelfAttention(\n",
              "              (query): Linear(in_features=768, out_features=768, bias=True)\n",
              "              (key): Linear(in_features=768, out_features=768, bias=True)\n",
              "              (value): Linear(in_features=768, out_features=768, bias=True)\n",
              "              (dropout): Dropout(p=0.0, inplace=False)\n",
              "            )\n",
              "            (output): BertSelfOutput(\n",
              "              (dense): Linear(in_features=768, out_features=768, bias=True)\n",
              "              (LayerNorm): LayerNorm((768,), eps=1e-12, elementwise_affine=True)\n",
              "              (dropout): Dropout(p=0.1, inplace=False)\n",
              "            )\n",
              "          )\n",
              "          (intermediate): BertIntermediate(\n",
              "            (dense): Linear(in_features=768, out_features=3072, bias=True)\n",
              "            (intermediate_act_fn): GELUActivation()\n",
              "          )\n",
              "          (output): BertOutput(\n",
              "            (dense): Linear(in_features=3072, out_features=768, bias=True)\n",
              "            (LayerNorm): LayerNorm((768,), eps=1e-12, elementwise_affine=True)\n",
              "            (dropout): Dropout(p=0.1, inplace=False)\n",
              "          )\n",
              "        )\n",
              "      )\n",
              "    )\n",
              "  )\n",
              "  (dropout): Dropout(p=0.1, inplace=False)\n",
              "  (classifier): Linear(in_features=768, out_features=2, bias=True)\n",
              ")"
            ]
          },
          "metadata": {},
          "execution_count": 23
        }
      ]
    },
    {
      "cell_type": "code",
      "execution_count": null,
      "metadata": {
        "id": "9QLhQpZIpy4X",
        "collapsed": true
      },
      "outputs": [],
      "source": [
        "for chrom in chroms[:]:\n",
        "    print(f\"BEGIN CHROM {chrom}\")\n",
        "    final_prediction(chrom)"
      ]
    },
    {
      "cell_type": "code",
      "execution_count": null,
      "metadata": {
        "id": "Bg5gaa45py4Y"
      },
      "outputs": [],
      "source": [
        "equalized, divisions = load('hg_divisions_endo.pkl')"
      ]
    },
    {
      "cell_type": "code",
      "execution_count": null,
      "metadata": {
        "id": "JzM8EN6zpy4Y",
        "outputId": "401363c6-d29a-4b2f-9481-c9405e4e4566"
      },
      "outputs": [
        {
          "name": "stderr",
          "output_type": "stream",
          "text": [
            "100%|██████████████████████████████████████████████████████████████████████████████████████████████████████████████████| 21/21 [06:08<00:00, 17.56s/it]\n"
          ]
        }
      ],
      "source": [
        "com_len = sum([len(DNA[chrom]) for chrom in chroms])\n",
        "sums = []\n",
        "\n",
        "for chrom in tqdm(chroms):\n",
        "    loc_sum = []\n",
        "    for model_num in range(5):\n",
        "        vec = load(f\"new_mod_hg_{model_num}_{chrom}_DNABERT2\")\n",
        "        loc_sum.append(vec.sum())\n",
        "    sums.append(loc_sum)\n",
        "\n",
        "multipliers = np.array(sums).sum(axis=0) / com_len"
      ]
    },
    {
      "cell_type": "code",
      "execution_count": null,
      "metadata": {
        "id": "xkV1YS-opy4Y",
        "outputId": "fdec1196-3822-4fc2-dc36-5055bba2a1a6"
      },
      "outputs": [
        {
          "name": "stderr",
          "output_type": "stream",
          "text": [
            "100%|██████████████████████████████████████████████████████████████████████████████████████████████████████████████████| 21/21 [21:42<00:00, 62.04s/it]\n"
          ]
        }
      ],
      "source": [
        "for chrom in tqdm(chroms):\n",
        "    vecs = np.array([load(f\"new_mod_hg_{model_num}_{chrom}_DNABERT2\")\n",
        "                     for model_num in range(5)])\n",
        "    res_vec = (vecs / multipliers[:, None]) * multipliers.mean()\n",
        "    mean_vec = res_vec.mean(axis=0)\n",
        "\n",
        "    test_ints = []\n",
        "    for MODEL_NUMBER in range(5):\n",
        "        train_inds, test_inds = divisions[MODEL_NUMBER]\n",
        "        train_intervals, test_intervals = [equalized[i] for i in train_inds], [equalized[i] for i in test_inds]\n",
        "        test_ints.extend([(MODEL_NUMBER, inter) for inter in test_intervals if inter[0] == chrom])\n",
        "\n",
        "    for model_num, inters in test_ints:\n",
        "        mean_vec[inters[1]: inters[2]] = res_vec[model_num, inters[1]: inters[2]]\n",
        "    dump(mean_vec, f\"new_mod_hg_{chrom}_DNABERT2\", 3)"
      ]
    },
    {
      "cell_type": "code",
      "execution_count": null,
      "metadata": {
        "id": "UZ7Akl1Mpy4Y"
      },
      "outputs": [],
      "source": [
        "blacklist = {c:[] for c in chroms}\n",
        "with open(\"endo.bed\")as f:\n",
        "    for line in f:\n",
        "        chrom, start, end =  line.strip().split()\n",
        "        blacklist[chrom].append((int(start), int(end)))"
      ]
    },
    {
      "cell_type": "code",
      "execution_count": null,
      "metadata": {
        "id": "L7wvZvmcpy4Y",
        "outputId": "bdc5b989-7144-4ebb-f75a-14493eb35430"
      },
      "outputs": [
        {
          "name": "stderr",
          "output_type": "stream",
          "text": [
            "100%|██████████████████████████████████████████████████████████████████████████████████████████████████████████████████| 21/21 [15:19<00:00, 43.77s/it]\n"
          ]
        }
      ],
      "source": [
        "for chrom in tqdm(chroms):\n",
        "    vec = load(f\"new_mod_hg_{chrom}_DNABERT2\")\n",
        "    for s_idx, e_idx in blacklist[chrom]:\n",
        "        vec[s_idx:e_idx] = 0\n",
        "    dump(vec, f\"new_mod_hg_{chrom}_DNABERT2\", 3)"
      ]
    },
    {
      "cell_type": "code",
      "execution_count": null,
      "metadata": {
        "id": "wDT58mI7py4Y",
        "outputId": "30581e95-3afd-4134-f422-b7de20f5935a"
      },
      "outputs": [
        {
          "name": "stderr",
          "output_type": "stream",
          "text": [
            "100%|██████████████████████████████████████████████████████████████████████████████████████████████████████████████████| 21/21 [02:38<00:00,  7.56s/it]\n"
          ]
        }
      ],
      "source": [
        "all_pred = []\n",
        "all_true = []\n",
        "for chrom in tqdm(chroms):\n",
        "    all_pred.append(load(f\"new_mod_hg_{chrom}_DNABERT2\"))\n",
        "    all_true.append(G4DNA[chrom][:].astype(int))"
      ]
    },
    {
      "cell_type": "code",
      "execution_count": null,
      "metadata": {
        "id": "KVhirOO7py4Z",
        "outputId": "845e64ad-b241-4b61-afd0-4f9d403b2424"
      },
      "outputs": [
        {
          "data": {
            "text/plain": [
              "0.8362092912637998"
            ]
          },
          "execution_count": 6,
          "metadata": {},
          "output_type": "execute_result"
        }
      ],
      "source": [
        "roc_auc_score(np.concatenate(all_true), np.concatenate(all_pred))"
      ]
    },
    {
      "cell_type": "code",
      "execution_count": null,
      "metadata": {
        "id": "TiQCF-Jnpy4Z",
        "outputId": "2d08f3e9-eeca-413f-cc8a-2698e86fcecc"
      },
      "outputs": [
        {
          "name": "stdout",
          "output_type": "stream",
          "text": [
            "              precision    recall  f1-score   support\n",
            "\n",
            "           0     0.9998    0.9970    0.9984 2654081885\n",
            "           1     0.0365    0.3707    0.0664    813333\n",
            "\n",
            "    accuracy                         0.9968 2654895218\n",
            "   macro avg     0.5181    0.6839    0.5324 2654895218\n",
            "weighted avg     0.9995    0.9968    0.9981 2654895218\n",
            "\n"
          ]
        }
      ],
      "source": [
        "print(sklearn.metrics.classification_report(np.concatenate(all_true), np.concatenate(all_pred)>0.5, digits=4))"
      ]
    },
    {
      "cell_type": "code",
      "execution_count": null,
      "metadata": {
        "id": "NLU8skvQpy4Z"
      },
      "outputs": [],
      "source": []
    },
    {
      "cell_type": "code",
      "execution_count": null,
      "metadata": {
        "id": "jzGmznSopy4Z"
      },
      "outputs": [],
      "source": []
    },
    {
      "cell_type": "code",
      "execution_count": null,
      "metadata": {
        "id": "yl802WfUpy4Z"
      },
      "outputs": [],
      "source": []
    }
  ],
  "metadata": {
    "kernelspec": {
      "display_name": "Python 3",
      "name": "python3"
    },
    "language_info": {
      "codemirror_mode": {
        "name": "ipython",
        "version": 3
      },
      "file_extension": ".py",
      "mimetype": "text/x-python",
      "name": "python",
      "nbconvert_exporter": "python",
      "pygments_lexer": "ipython3",
      "version": "3.7.3"
    },
    "colab": {
      "provenance": [],
      "machine_shape": "hm",
      "gpuType": "A100"
    },
    "accelerator": "GPU"
  },
  "nbformat": 4,
  "nbformat_minor": 0
}