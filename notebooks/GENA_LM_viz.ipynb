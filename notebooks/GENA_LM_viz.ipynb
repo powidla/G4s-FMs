{
  "nbformat": 4,
  "nbformat_minor": 0,
  "metadata": {
    "colab": {
      "provenance": []
    },
    "kernelspec": {
      "name": "python3",
      "display_name": "Python 3"
    },
    "language_info": {
      "name": "python"
    }
  },
  "cells": [
    {
      "cell_type": "code",
      "execution_count": null,
      "metadata": {
        "id": "aRN4QPyuiiqF"
      },
      "outputs": [],
      "source": [
        "from transformers import AutoTokenizer, AutoModel\n",
        "import importlib\n",
        "from transformers import BertModel, BertConfig, PreTrainedTokenizer, BasicTokenizer, BertForTokenClassification, BertForSequenceClassification\n",
        "import torch\n",
        "import torch.nn as nn\n",
        "import torch.optim as optim\n",
        "from datasets import Dataset\n",
        "from torch.utils.data import DataLoader\n",
        "\n",
        "from sklearn.metrics import f1_score, accuracy_score, roc_auc_score\n",
        "import numpy as np\n",
        "from scipy.special import softmax\n",
        "import pandas as pd\n",
        "from tqdm.notebook import tqdm\n",
        "\n",
        "import seaborn as sns\n",
        "import matplotlib.pyplot as plt\n",
        "from IPython.display import clear_output"
      ]
    },
    {
      "cell_type": "code",
      "source": [
        "!git clone https://github.com/AIRI-Institute/GENA_LM.git"
      ],
      "metadata": {
        "id": "7_o2ssJcim78"
      },
      "execution_count": null,
      "outputs": []
    },
    {
      "cell_type": "code",
      "source": [
        "# tokenizer = AutoTokenizer.from_pretrained('AIRI-Institute/gena-lm-bert-base-t2t')\n",
        "model = BertForSequenceClassification.from_pretrained('AIRI-Institute/gena-lm-bert-base')\n",
        "gena_module_name = model.__class__.__module__\n",
        "cls = getattr(importlib.import_module(gena_module_name), 'BertForSequenceClassification')\n",
        "model = cls.from_pretrained('AIRI-Institute/gena-lm-bert-base-t2t', num_labels=2, output_attentions=True)"
      ],
      "metadata": {
        "id": "TfTtZ5XHipdr"
      },
      "execution_count": null,
      "outputs": []
    },
    {
      "cell_type": "code",
      "source": [
        "device = \"cuda\""
      ],
      "metadata": {
        "id": "nsfz7KSgiq6e"
      },
      "execution_count": null,
      "outputs": []
    },
    {
      "cell_type": "code",
      "source": [
        "class HG38Dataset(torch.utils.data.Dataset):\n",
        "\n",
        "    def __init__(\n",
        "        self,\n",
        "        split,\n",
        "        path,\n",
        "        max_length=128,\n",
        "        tokenizer=None,\n",
        "    ):\n",
        "\n",
        "        self.max_length = max_length\n",
        "        self.tokenizer = tokenizer\n",
        "\n",
        "        df_raw = pd.read_csv(path, sep = '\\t')\n",
        "        self.df = df_raw[df_raw['split'] == split]\n",
        "\n",
        "    def __len__(self):\n",
        "        return len(self.df)\n",
        "\n",
        "    def __getitem__(self, idx):\n",
        "        row = self.df.iloc[idx]\n",
        "        seq, target = (row[0], row[1])\n",
        "        seq = tokenizer(seq, padding=\"max_length\", truncation=True, max_length=self.max_length)\n",
        "        seq = seq[\"input_ids\"]\n",
        "        seq = torch.LongTensor(seq)\n",
        "        target = torch.LongTensor([target])\n",
        "        return seq, target"
      ],
      "metadata": {
        "id": "d56gfvzIisV0"
      },
      "execution_count": null,
      "outputs": []
    },
    {
      "cell_type": "code",
      "source": [
        "sns.set_style('whitegrid')\n",
        "plt.rcParams.update({'font.size': 12})\n",
        "\n",
        "def plot_losses(train_losses, test_losses, train_accuracies, test_accuracies):\n",
        "    clear_output()\n",
        "    fig, axs = plt.subplots(1, 2, figsize=(13, 4))\n",
        "    axs[0].plot(np.arange(1, len(train_losses) + 1) * 100, train_losses, label='train')\n",
        "    axs[0].plot(np.arange(1, len(test_losses) + 1) * 100, test_losses, label='val')\n",
        "    axs[0].set_ylabel('loss')\n",
        "\n",
        "    axs[1].plot(np.arange(1, len(train_accuracies) + 1) * 100, train_accuracies, label='train')\n",
        "    axs[1].plot(np.arange(1, len(test_accuracies) + 1) * 100, test_accuracies, label='val')\n",
        "    axs[1].set_ylabel('accuracy')\n",
        "\n",
        "    for ax in axs:\n",
        "        ax.set_xlabel('Number of training steps performed')\n",
        "        ax.legend()\n",
        "\n",
        "    fig.suptitle('GENA-LM')\n",
        "\n",
        "    plt.show()"
      ],
      "metadata": {
        "id": "Fwy7QiuYiuCz"
      },
      "execution_count": null,
      "outputs": []
    },
    {
      "cell_type": "code",
      "source": [
        "num_epochs = 10\n",
        "max_length = 128\n",
        "path = 'https://drive.google.com/file/d/1hYaaF4DSMaWMogSZJVlMKH85bL15Thb-/view?usp=drive_link'\n",
        "path = 'https://drive.google.com/uc?id=' + path.split('/')[-2]\n",
        "batch_size = 32\n",
        "learning_rate = 5e-06\n",
        "weight_decay = 0.0\n",
        "\n",
        "device = 'cuda' if torch.cuda.is_available() else 'cpu'\n",
        "print(\"Using device:\", device)\n",
        "\n",
        "ds_train = HG38Dataset(\n",
        "    split = 'train',\n",
        "    path = path,\n",
        "    max_length = max_length,\n",
        "    tokenizer=tokenizer\n",
        ")\n",
        "\n",
        "ds_test = HG38Dataset(\n",
        "    split = 'val',\n",
        "    path = path,\n",
        "    max_length = max_length,\n",
        "    tokenizer=tokenizer\n",
        ")\n",
        "\n",
        "train_loader = DataLoader(ds_train, batch_size=batch_size, shuffle=True, drop_last=True)\n",
        "test_loader = DataLoader(ds_test, batch_size=batch_size, shuffle=False, drop_last=True)\n",
        "\n",
        "loss_fn = nn.CrossEntropyLoss()\n",
        "\n",
        "optimizer = optim.AdamW(model.parameters(), lr=learning_rate, weight_decay=weight_decay)\n",
        "\n",
        "model.to(device)\n",
        "\n",
        "train_losses, train_accuracies = [], []\n",
        "test_losses, test_accuracies = [], []\n",
        "\n",
        "train_loss, train_accuracy = 0.0, 0.0\n",
        "\n",
        "for epoch in range(num_epochs):\n",
        "\n",
        "    model.train()\n",
        "    for batch_ndx, (data, target) in enumerate(train_loader):\n",
        "        data, target = data.to(device), target.to(device)\n",
        "\n",
        "        if (batch_ndx + 1) == 1201:\n",
        "          break\n",
        "\n",
        "        optimizer.zero_grad()\n",
        "        output = model(data)\n",
        "        loss = loss_fn(output['logits'], target.squeeze())\n",
        "        loss.backward()\n",
        "        optimizer.step()\n",
        "\n",
        "        train_loss += loss.item()\n",
        "        pred = output['logits'].argmax(dim=1, keepdim=True)\n",
        "        train_accuracy += pred.eq(target.view_as(pred)).sum().item()\n",
        "\n",
        "        if (batch_ndx + 1) % 100 == 0:\n",
        "\n",
        "            train_loss /= batch_size * 100\n",
        "            train_accuracy /= batch_size * 100\n",
        "            train_losses += [train_loss]\n",
        "            train_accuracies += [train_accuracy]\n",
        "\n",
        "            test_loss, test_accuracy = 0.0, 0.0\n",
        "            model.eval()\n",
        "            for data, target in test_loader:\n",
        "                data, target = data.to(device), target.to(device)\n",
        "\n",
        "                with torch.no_grad():\n",
        "                    output = model(data)\n",
        "                    loss = loss_fn(output['logits'], target.squeeze())\n",
        "\n",
        "                test_loss += loss.item()\n",
        "                pred = output['logits'].argmax(dim=1, keepdim=True)\n",
        "                test_accuracy += pred.eq(target.view_as(pred)).sum().item()\n",
        "\n",
        "            test_loss /= len(test_loader.dataset)\n",
        "            test_accuracy /= len(test_loader.dataset)\n",
        "            test_losses += [test_loss]\n",
        "            test_accuracies += [test_accuracy]\n",
        "            plot_losses(train_losses, test_losses, train_accuracies, test_accuracies)\n",
        "\n",
        "            train_loss, train_accuracy = 0.0, 0.0"
      ],
      "metadata": {
        "id": "4wLhbW-hiv2u"
      },
      "execution_count": null,
      "outputs": []
    },
    {
      "cell_type": "code",
      "source": [
        "ds_test = HG38Dataset(\n",
        "    split = 'test',\n",
        "    path = path,\n",
        "    max_length = max_length,\n",
        "    tokenizer=tokenizer\n",
        ")\n",
        "\n",
        "test_loader = DataLoader(ds_test, batch_size=batch_size, shuffle=False, drop_last=True)\n",
        "\n",
        "outputs = []\n",
        "targets = []\n",
        "\n",
        "model.eval()\n",
        "for data, target in test_loader:\n",
        "    data, target = data.to(device), target.to(device)\n",
        "\n",
        "    with torch.no_grad():\n",
        "        output = model(data)\n",
        "        outputs += output['logits'].cpu().tolist()\n",
        "        targets += target.cpu().tolist()"
      ],
      "metadata": {
        "id": "e4A1QrCeixRX"
      },
      "execution_count": null,
      "outputs": []
    },
    {
      "cell_type": "code",
      "source": [
        "from bertviz import head_view, model_view\n",
        "\n",
        "# tokenizer = DNATokenizer.from_pretrained(model_name, trust_remote_code=True)\n",
        "tokenizer = AutoTokenizer.from_pretrained('AIRI-Institute/gena-lm-bert-base-t2t')\n",
        "sentence = \"TCGGAACCGTGCTTGCAGCCCCCGGCTGGC\"\n",
        "inputs = tokenizer.encode(sentence, return_tensors='pt', add_special_tokens=False)\n",
        "model = model.to(device)\n",
        "outputs = model(inputs.to(device))\n",
        "attention = outputs[-1]\n",
        "tokens = tokenizer.convert_ids_to_tokens(inputs[0])"
      ],
      "metadata": {
        "id": "sWfnJCvWi0Ez"
      },
      "execution_count": null,
      "outputs": []
    },
    {
      "cell_type": "code",
      "source": [
        "head_view(attention, tokens)"
      ],
      "metadata": {
        "id": "xRH1vwq0i3Sv"
      },
      "execution_count": null,
      "outputs": []
    }
  ]
}